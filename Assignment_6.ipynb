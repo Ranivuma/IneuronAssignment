{
 "cells": [
  {
   "cell_type": "markdown",
   "id": "539827e3",
   "metadata": {},
   "source": [
    "1. What are escape characters and how do you use them in Python?\n",
    "      The backslash \"\\\" is a special character, also called the \"escape\" character. It is used in representing certain whitespace characters: \"\\t\" is a tab, \"\\n\" is a newline, and \"\\r\" is a carriage return. Conversely, prefixing a special character with \"\\\" turns it into an ordinary character.\n",
    "  \n",
    " 2. What do the escape characters n and t stand for?\n",
    " \n",
    "     \"\\t\" is a tab, \"\\n\" is a newline.\n",
    " \n",
    "3. What is the way to include backslash characters in a string?\n",
    "    Use two backslashes to represent a backslash\n",
    "    Use the syntax \"\\\\\" within the string literal to represent a single backslash.\n",
    "    \n",
    "4.  The string value \"Howl's Moving Castle\" is a valid string. Why isn't it a problem that the single quote character in the    word Howl's isn't escaped? \n",
    "    The single quote in Howl's is fine because the string is surrounded by  double quotes.\n",
    "    \n",
    "5. How do you write a string of newlines if you don't want to use the n character in Python?\n",
    "\n",
    "    By using \\n , automatically translates that to the proper newline character for your platform.\n",
    "\n",
    "6. What are the values of the given expressions?"
   ]
  },
  {
   "cell_type": "code",
   "execution_count": 10,
   "id": "931aac7c",
   "metadata": {},
   "outputs": [
    {
     "data": {
      "text/plain": [
       "'e'"
      ]
     },
     "execution_count": 10,
     "metadata": {},
     "output_type": "execute_result"
    }
   ],
   "source": [
    "'Hello, world!'[1]"
   ]
  },
  {
   "cell_type": "code",
   "execution_count": 11,
   "id": "61ea05d5",
   "metadata": {},
   "outputs": [
    {
     "data": {
      "text/plain": [
       "'Hello'"
      ]
     },
     "execution_count": 11,
     "metadata": {},
     "output_type": "execute_result"
    }
   ],
   "source": [
    "'Hello, world!'[0:5]"
   ]
  },
  {
   "cell_type": "code",
   "execution_count": 12,
   "id": "34d30f13",
   "metadata": {},
   "outputs": [
    {
     "data": {
      "text/plain": [
       "'Hello'"
      ]
     },
     "execution_count": 12,
     "metadata": {},
     "output_type": "execute_result"
    }
   ],
   "source": [
    "'Hello, world!'[:5]"
   ]
  },
  {
   "cell_type": "code",
   "execution_count": 13,
   "id": "261dc2d6",
   "metadata": {},
   "outputs": [
    {
     "data": {
      "text/plain": [
       "'lo, world!'"
      ]
     },
     "execution_count": 13,
     "metadata": {},
     "output_type": "execute_result"
    }
   ],
   "source": [
    "'Hello, world!'[3:]"
   ]
  },
  {
   "cell_type": "markdown",
   "id": "096b52ed",
   "metadata": {},
   "source": [
    "7.What are the values of the following expressions?"
   ]
  },
  {
   "cell_type": "code",
   "execution_count": 6,
   "id": "7df39a73",
   "metadata": {},
   "outputs": [
    {
     "data": {
      "text/plain": [
       "'HELLO'"
      ]
     },
     "execution_count": 6,
     "metadata": {},
     "output_type": "execute_result"
    }
   ],
   "source": [
    "'Hello'.upper()"
   ]
  },
  {
   "cell_type": "code",
   "execution_count": 7,
   "id": "26174928",
   "metadata": {},
   "outputs": [
    {
     "data": {
      "text/plain": [
       "True"
      ]
     },
     "execution_count": 7,
     "metadata": {},
     "output_type": "execute_result"
    }
   ],
   "source": [
    "'Hello'.upper().isupper()"
   ]
  },
  {
   "cell_type": "code",
   "execution_count": 8,
   "id": "5a46a288",
   "metadata": {},
   "outputs": [
    {
     "data": {
      "text/plain": [
       "'hello'"
      ]
     },
     "execution_count": 8,
     "metadata": {},
     "output_type": "execute_result"
    }
   ],
   "source": [
    "'Hello'.upper().lower()"
   ]
  },
  {
   "cell_type": "markdown",
   "id": "eddd595d",
   "metadata": {},
   "source": [
    "8. What are the values of the following expressions?"
   ]
  },
  {
   "cell_type": "code",
   "execution_count": 2,
   "id": "b43ffe36",
   "metadata": {},
   "outputs": [
    {
     "data": {
      "text/plain": [
       "'There-can-only-one.'"
      ]
     },
     "execution_count": 2,
     "metadata": {},
     "output_type": "execute_result"
    }
   ],
   "source": [
    "-'.join('There can only one.'.split())"
   ]
  },
  {
   "cell_type": "code",
   "execution_count": 5,
   "id": "74c919b0",
   "metadata": {},
   "outputs": [
    {
     "data": {
      "text/plain": [
       "['Remember,', 'remember,', 'the', 'fifth', 'of', 'July.']"
      ]
     },
     "execution_count": 5,
     "metadata": {},
     "output_type": "execute_result"
    }
   ],
   "source": [
    "'Remember, remember, the fifth of July.'.split()"
   ]
  },
  {
   "cell_type": "markdown",
   "id": "99fc2a41",
   "metadata": {},
   "source": [
    "9.  What are the methods for right justified left justified and centering a string?\n",
    "       \n",
    "       Python String ljust(), rjust(), center()\n",
    "       These functions respectively left-justify, right-justify and center a string.\n",
    "       \n",
    "10. What is the best way to remove whitespace characters from the start or end?\n",
    "    To remove whitespace characters from the beginning or from the end of a string only, you use the trimStart() \n",
    "    or trimEnd() method.      "
   ]
  }
 ],
 "metadata": {
  "kernelspec": {
   "display_name": "Python 3",
   "language": "python",
   "name": "python3"
  },
  "language_info": {
   "codemirror_mode": {
    "name": "ipython",
    "version": 3
   },
   "file_extension": ".py",
   "mimetype": "text/x-python",
   "name": "python",
   "nbconvert_exporter": "python",
   "pygments_lexer": "ipython3",
   "version": "3.8.8"
  }
 },
 "nbformat": 4,
 "nbformat_minor": 5
}

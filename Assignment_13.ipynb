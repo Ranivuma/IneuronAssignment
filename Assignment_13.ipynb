{
 "cells": [
  {
   "cell_type": "markdown",
   "id": "3e340ee5",
   "metadata": {},
   "source": [
    "1. What advantages do Excel spreadsheets have over CSV spreadsheets?\n",
    "Excel is more superior when compared with the CSV file format; thus, CSV consumes less amount of file size when the user is importing data; it is a much faster format compared to excel. CSV does not manipulate data and stores it as-is. Excel also allows the user the add-in feature.\n",
    "2.What do you pass to csv.reader() and csv.writer() to create reader and writer objects?\n",
    "file object\n",
    "3. What modes do File objects for reader and writer objects need to be opened in?\n",
    "append\n",
    "4. What method takes a list argument and writes it to a CSV file?\n",
    "writerow \n",
    "5. What do the keyword arguments delimiter and line terminator do?\n",
    "This changes the delimiter and line terminator characters in your file. The delimiter is the character that appears between cells on a row. By default, the delimiter for a CSV file is a comma. The line terminator is the character that comes at the end of a row.\n",
    "6. What function takes a string of JSON data and returns a Python data structure?\n",
    "dumps() method return Python data structure of JSON string or data\n",
    "7. What function takes a Python data structure and returns a string of JSON data?\n",
    "loads() method return Python data structure of JSON string or data.\n"
   ]
  }
 ],
 "metadata": {
  "kernelspec": {
   "display_name": "Python 3",
   "language": "python",
   "name": "python3"
  },
  "language_info": {
   "codemirror_mode": {
    "name": "ipython",
    "version": 3
   },
   "file_extension": ".py",
   "mimetype": "text/x-python",
   "name": "python",
   "nbconvert_exporter": "python",
   "pygments_lexer": "ipython3",
   "version": "3.8.8"
  }
 },
 "nbformat": 4,
 "nbformat_minor": 5
}

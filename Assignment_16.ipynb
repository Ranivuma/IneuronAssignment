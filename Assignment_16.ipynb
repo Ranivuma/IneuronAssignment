{
 "cells": [
  {
   "cell_type": "markdown",
   "id": "ef43b743",
   "metadata": {},
   "source": [
    "'''1. Create a list called years_list, starting with the year of your birth, and each year thereafter until\n",
    "the year of your fifth birthday. For example, if you were born in 1980. the list would be years_list =\n",
    "[1980, 1981, 1982, 1983, 1984, 1985].'''\n",
    "\n",
    "years_list=[1981,1982,1983,1984,1985,1986]\n",
    "'''2. In which year in years_list was your third birthday? Remember, you were 0 years of age for your\n",
    "first year.'''\n",
    "years_list[2]\n",
    "#3.In the years list, which year were you the oldest?\n",
    "years_list[-1]\n",
    "#4. Make a list called things with these three strings as elements: mozzarella, cinderella,salmonella'.\n",
    "list_str=['mozzarella','cinderella','salmonella']\n",
    "#5. Capitalize the element in things that refers to a person and then print the list. Did it change the element in the list\n",
    "for i in list_str:\n",
    "    print(i.capitalize())\n",
    "#6. Make a surprise list with the elements &quot;Groucho,&quot; &quot;Chico,&quot; and &quot;Harpo.&quot;\n",
    "surprise_list =['Groucho','Chico','Harpo']\n",
    "#7. Lowercase the last element of the surprise list, reverse it, and then capitalize it.\n",
    "surprise_list[-1].lower()\n",
    "surprise_list[-1][::-1]\n",
    "surprise_list[-1].capitalize()\n",
    "#8. Make an English-to-French dictionary called e2f and print it. Here are your starter words: dog is\n",
    "chien, cat is chat, and walrus is morse.se\n",
    "e2f={'dog':'chien','cat':'chat','walrus':'morse'}\n",
    "9. Write the French word for walrus in your three-word dictionary e2f.\n",
    "10. Make a French-to-English\n"
   ]
  },
  {
   "cell_type": "code",
   "execution_count": 3,
   "id": "586cee1a",
   "metadata": {},
   "outputs": [
    {
     "data": {
      "text/plain": [
       "1983"
      ]
     },
     "execution_count": 3,
     "metadata": {},
     "output_type": "execute_result"
    }
   ],
   "source": []
  },
  {
   "cell_type": "code",
   "execution_count": null,
   "id": "0eff7d12",
   "metadata": {},
   "outputs": [],
   "source": []
  }
 ],
 "metadata": {
  "kernelspec": {
   "display_name": "Python 3",
   "language": "python",
   "name": "python3"
  },
  "language_info": {
   "codemirror_mode": {
    "name": "ipython",
    "version": 3
   },
   "file_extension": ".py",
   "mimetype": "text/x-python",
   "name": "python",
   "nbconvert_exporter": "python",
   "pygments_lexer": "ipython3",
   "version": "3.8.8"
  }
 },
 "nbformat": 4,
 "nbformat_minor": 5
}

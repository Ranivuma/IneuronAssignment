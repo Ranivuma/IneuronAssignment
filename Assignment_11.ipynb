{
 "cells": [
  {
   "cell_type": "code",
   "execution_count": null,
   "id": "3f628ef4",
   "metadata": {},
   "outputs": [],
   "source": [
    "1. Create an assert statement that throws an AssertionError if the variable spam is a negative\n",
    "integer.\n",
    "assert spam >= 10, 'The spam variable is less than 10.'\n",
    "\n",
    "2. Write an assert statement that triggers an AssertionError if the variables eggs and bacon contain\n",
    "strings that are the same as each other, even if their cases are different (that is, &#39;hello&#39; and &#39;hello&#39; are\n",
    "considered the same, and &#39;goodbye&#39; and &#39;GOODbye&#39; are also considered the same).\n",
    "assert eggs.lower() != bacon.lower(), 'The eggs and bacon variables contain the same string (case insensitive).'                                                                       \n",
    "                                                                            \n",
    "3. Create an assert statement that throws an AssertionError every time.\n",
    "assert 1 != 1\n",
    "                                                                            \n",
    "4. What are the two lines that must be present in your software in order to call logging.debug()?\n",
    "import logging logging.basicConfig(level=logging.DEBUG, format=' %(asctime)s - %(levelname)s - %(message)s')                                                                          \n",
    "                                                                            \n",
    "5. What are the two lines that your program must have in order to have logging.debug() send a\n",
    "logging message to a file named programLog.txt?\n",
    "import logging logging.basicConfig(filename='programLog.txt', level=logging.DEBUG, format=' %(asctime)s - %(levelname)s - %(message)s')                 \n",
    "                                                                            \n",
    "                                                                            \n",
    "6. What are the five levels of logging?\n",
    "                                        \n",
    "Info, Debug,warning,error,critical                                                                            \n",
    "                                                                            \n",
    "7. What line of code would you add to your software to disable all logging messages?\n",
    "logging.disable(logging.CRITICAL)\n",
    "                                                                           \n",
    "8.Why is using logging messages better than using print() to display the same message?\n",
    "Once we're done debugging, we'll end up spending a lot of time removing print() calls from our code for each log message. We might even accidentally remove some print() calls that were being used for nonlog messages. The nice thing about log messages is that you're free to fill your program with as many as you like, and you can always disable them later by adding a single logging.disable(logging.CRITICAL) call. Unlike print(), the logging module makes it easy to switch between showing and hiding log messages.\n",
    "9. What are the differences between the Step Over, Step In, and Step Out buttons in the debugger?\n",
    "STEP will cause the debugger to execute the next line of code and then pause again. If the next line of code is a function call, the debugger will \"step into\" that function and jump to the first line of code of that function.\n",
    "OVER will execute the next line of code, similar to the STEP button. However, if the next line of code is a function call, the OVER button will \"step over\" the code in the function.\n",
    "OUT will cause the debugger to execute lines of code at full speed until it returns from the current function.\n",
    "10.After you click Continue, when will the debugger stop ?\n",
    "Clicking the GO button will cause the program to execute normally until it terminates or reaches a breakpoint.                                                                            \n",
    "11. What is the concept of a breakpoint?\n",
    "A breakpoint can be set on a specific line of code and forces the debugger to pause whenever the program execution reaches that line.                                                                            "
   ]
  }
 ],
 "metadata": {
  "kernelspec": {
   "display_name": "Python 3",
   "language": "python",
   "name": "python3"
  },
  "language_info": {
   "codemirror_mode": {
    "name": "ipython",
    "version": 3
   },
   "file_extension": ".py",
   "mimetype": "text/x-python",
   "name": "python",
   "nbconvert_exporter": "python",
   "pygments_lexer": "ipython3",
   "version": "3.8.8"
  }
 },
 "nbformat": 4,
 "nbformat_minor": 5
}

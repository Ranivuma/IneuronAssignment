{
 "cells": [
  {
   "cell_type": "markdown",
   "id": "fb7bceb0",
   "metadata": {},
   "source": [
    "1. To what does a relative path refer?\n",
    "A relative path refers to a location that is relative to a current directory.\n",
    "2. What does an absolute path start with your operating system?\n",
    "An absolute path refers to the complete details needed to locate a file or folder, starting from the root element and ending with the other subdirectories.\n",
    "3. What do the functions os.getcwd() and os.chdir() do?\n",
    "getcwd() : CWD stands for Current Working Directory. This function allows you to see what your current working directory is. os.chdir(\"path-to-dir\") : Short for CHange DIRectory, this function allows you to set the current working directory to a path of your choice.\n",
    "4. What are the . and .. folders?\n",
    "\n",
    "\n",
    "5. In C:\\bacon\\eggs\\spam.txt, which part is the dir name, and which part is the base name?\n",
    "eggs is the dir name and c is the base name\n",
    "\n",
    "6. What are the three “mode” arguments that can be passed to the open() function?\n",
    "read ,write, apppend are the three mode .\n",
    "7. What happens if an existing file is opened in write mode?\n",
    "the new content will overwrite the existing content\n",
    "8. How do you tell the difference between read() and readlines()?\n",
    "read will read the entire content as string whereas readlines will read the entire conten as line by line and return as list\n",
    "9. What data structure does a shelf value resemble?\n",
    "A shelf value resembles a dictionary value; it has keys and values, along with keys() and values() methods that work similarly to the dictionary methods of the same names."
   ]
  }
 ],
 "metadata": {
  "kernelspec": {
   "display_name": "Python 3",
   "language": "python",
   "name": "python3"
  },
  "language_info": {
   "codemirror_mode": {
    "name": "ipython",
    "version": 3
   },
   "file_extension": ".py",
   "mimetype": "text/x-python",
   "name": "python",
   "nbconvert_exporter": "python",
   "pygments_lexer": "ipython3",
   "version": "3.8.8"
  }
 },
 "nbformat": 4,
 "nbformat_minor": 5
}
